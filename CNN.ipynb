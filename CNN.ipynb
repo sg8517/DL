{
  "nbformat": 4,
  "nbformat_minor": 0,
  "metadata": {
    "colab": {
      "provenance": [],
      "collapsed_sections": []
    },
    "kernelspec": {
      "name": "python3",
      "display_name": "Python 3"
    },
    "language_info": {
      "name": "python"
    }
  },
  "cells": [
    {
      "cell_type": "code",
      "execution_count": null,
      "metadata": {
        "colab": {
          "base_uri": "https://localhost:8080/"
        },
        "id": "nK15L761L747",
        "outputId": "08bb4699-a3ea-46ec-ca76-be381614df84"
      },
      "outputs": [
        {
          "output_type": "stream",
          "name": "stdout",
          "text": [
            "Cloning into 'GV_DeepLearning'...\n",
            "remote: Enumerating objects: 979, done.\u001b[K\n",
            "remote: Counting objects: 100% (26/26), done.\u001b[K\n",
            "remote: Compressing objects: 100% (24/24), done.\u001b[K\n",
            "remote: Total 979 (delta 10), reused 1 (delta 0), pack-reused 953\u001b[K\n",
            "Receiving objects: 100% (979/979), 18.10 MiB | 25.39 MiB/s, done.\n",
            "Resolving deltas: 100% (41/41), done.\n"
          ]
        }
      ],
      "source": [
        "!git clone \"https://github.com/vadivukar/GV_DeepLearning.git/\""
      ]
    },
    {
      "cell_type": "code",
      "source": [
        "from google.colab import drive\n",
        "drive.mount('/content/drive')"
      ],
      "metadata": {
        "colab": {
          "base_uri": "https://localhost:8080/"
        },
        "id": "kAsQ55im6XhU",
        "outputId": "a11a0fb9-097d-41dc-c660-02b96729e0f6"
      },
      "execution_count": null,
      "outputs": [
        {
          "output_type": "stream",
          "name": "stdout",
          "text": [
            "Drive already mounted at /content/drive; to attempt to forcibly remount, call drive.mount(\"/content/drive\", force_remount=True).\n"
          ]
        }
      ]
    },
    {
      "cell_type": "code",
      "source": [
        "import tensorflow as tf\n",
        "from keras.preprocessing.image import ImageDataGenerator"
      ],
      "metadata": {
        "id": "SwT_-h-RMgXR"
      },
      "execution_count": null,
      "outputs": []
    },
    {
      "cell_type": "code",
      "source": [
        "tf.__version__"
      ],
      "metadata": {
        "colab": {
          "base_uri": "https://localhost:8080/",
          "height": 35
        },
        "id": "rmiKFedkMNmM",
        "outputId": "68d7e6f6-9751-411c-90e0-3412766424e7"
      },
      "execution_count": null,
      "outputs": [
        {
          "output_type": "execute_result",
          "data": {
            "text/plain": [
              "'2.8.2'"
            ],
            "application/vnd.google.colaboratory.intrinsic+json": {
              "type": "string"
            }
          },
          "metadata": {},
          "execution_count": 4
        }
      ]
    },
    {
      "cell_type": "code",
      "source": [
        "train_datagen = ImageDataGenerator(rescale = 1./255,\n",
        "                                   shear_range = 0.2,\n",
        "                                   zoom_range = 0.2,\n",
        "                                   horizontal_flip = True)\n",
        "training_set = train_datagen.flow_from_directory('/content/GV_DeepLearning/Dataset/TrainingSet',\n",
        "                                                 target_size = (64, 64),\n",
        "                                                 batch_size = 32,\n",
        "                                                 class_mode = 'binary')"
      ],
      "metadata": {
        "colab": {
          "base_uri": "https://localhost:8080/"
        },
        "id": "jqkSzNwlNnGY",
        "outputId": "472a69bc-ee0f-4ff4-923a-25f6b269e906"
      },
      "execution_count": null,
      "outputs": [
        {
          "output_type": "stream",
          "name": "stdout",
          "text": [
            "Found 692 images belonging to 2 classes.\n"
          ]
        }
      ]
    },
    {
      "cell_type": "code",
      "source": [
        "test_datagen = ImageDataGenerator(rescale = 1./255)\n",
        "test_set = test_datagen.flow_from_directory('/content/GV_DeepLearning/Dataset/TestSet',\n",
        "                                            target_size = (64, 64),\n",
        "                                            batch_size = 32,\n",
        "                                            class_mode = 'binary')"
      ],
      "metadata": {
        "colab": {
          "base_uri": "https://localhost:8080/"
        },
        "id": "-WpyotUpN8EK",
        "outputId": "fd5cd236-9f1b-4a3d-fbd5-e587c506eb3d"
      },
      "execution_count": null,
      "outputs": [
        {
          "output_type": "stream",
          "name": "stdout",
          "text": [
            "Found 100 images belonging to 2 classes.\n"
          ]
        }
      ]
    },
    {
      "cell_type": "code",
      "source": [
        "cnn = tf.keras.models.Sequential()"
      ],
      "metadata": {
        "id": "2lpkDn8WODHg"
      },
      "execution_count": null,
      "outputs": []
    },
    {
      "cell_type": "code",
      "source": [
        "cnn.add(tf.keras.layers.Conv2D(filters=32, kernel_size=3, activation='relu', input_shape=[64, 64, 3]))"
      ],
      "metadata": {
        "id": "N86reAImOKim"
      },
      "execution_count": null,
      "outputs": []
    },
    {
      "cell_type": "code",
      "source": [
        "cnn.add(tf.keras.layers.MaxPool2D(pool_size=2, strides=2))"
      ],
      "metadata": {
        "id": "7ixYgaUhOOg3"
      },
      "execution_count": null,
      "outputs": []
    },
    {
      "cell_type": "code",
      "source": [
        "cnn.add(tf.keras.layers.Conv2D(filters=32, kernel_size=3, activation='relu'))\n",
        "cnn.add(tf.keras.layers.MaxPool2D(pool_size=2, strides=2))"
      ],
      "metadata": {
        "id": "ZCpogzsIOScD"
      },
      "execution_count": null,
      "outputs": []
    },
    {
      "cell_type": "code",
      "source": [
        "cnn.add(tf.keras.layers.Flatten())"
      ],
      "metadata": {
        "id": "LpQb1GkhOwdV"
      },
      "execution_count": null,
      "outputs": []
    },
    {
      "cell_type": "code",
      "source": [
        "cnn.add(tf.keras.layers.Dense(units=128, activation='relu'))"
      ],
      "metadata": {
        "id": "0xWxPD1DOzno"
      },
      "execution_count": null,
      "outputs": []
    },
    {
      "cell_type": "code",
      "source": [
        "cnn.add(tf.keras.layers.Dense(units=1, activation='sigmoid'))"
      ],
      "metadata": {
        "id": "t0gFJcqKO3ad"
      },
      "execution_count": null,
      "outputs": []
    },
    {
      "cell_type": "code",
      "source": [
        "cnn.compile(optimizer = 'adam', loss = 'binary_crossentropy', metrics = ['accuracy'])"
      ],
      "metadata": {
        "id": "QYoOGouCO7JF"
      },
      "execution_count": null,
      "outputs": []
    },
    {
      "cell_type": "code",
      "source": [
        "cnn.fit(x = training_set, validation_data = test_set, epochs = 20)"
      ],
      "metadata": {
        "colab": {
          "base_uri": "https://localhost:8080/"
        },
        "id": "tziUbNpbO9y-",
        "outputId": "d761d734-d019-4774-afd3-43ccced41086"
      },
      "execution_count": null,
      "outputs": [
        {
          "output_type": "stream",
          "name": "stdout",
          "text": [
            "Epoch 1/20\n",
            "22/22 [==============================] - 6s 275ms/step - loss: 0.6463 - accuracy: 0.6214 - val_loss: 0.7399 - val_accuracy: 0.5000\n",
            "Epoch 2/20\n",
            "22/22 [==============================] - 6s 260ms/step - loss: 0.6296 - accuracy: 0.6156 - val_loss: 0.6489 - val_accuracy: 0.5500\n",
            "Epoch 3/20\n",
            "22/22 [==============================] - 6s 255ms/step - loss: 0.5899 - accuracy: 0.6546 - val_loss: 0.7218 - val_accuracy: 0.5000\n",
            "Epoch 4/20\n",
            "22/22 [==============================] - 6s 256ms/step - loss: 0.5668 - accuracy: 0.7153 - val_loss: 0.6756 - val_accuracy: 0.5800\n",
            "Epoch 5/20\n",
            "22/22 [==============================] - 6s 259ms/step - loss: 0.5301 - accuracy: 0.7370 - val_loss: 0.6142 - val_accuracy: 0.6200\n",
            "Epoch 6/20\n",
            "22/22 [==============================] - 6s 253ms/step - loss: 0.5251 - accuracy: 0.7370 - val_loss: 0.6763 - val_accuracy: 0.6000\n",
            "Epoch 7/20\n",
            "22/22 [==============================] - 6s 255ms/step - loss: 0.5105 - accuracy: 0.7399 - val_loss: 0.6657 - val_accuracy: 0.5700\n",
            "Epoch 8/20\n",
            "22/22 [==============================] - 6s 254ms/step - loss: 0.4810 - accuracy: 0.7775 - val_loss: 0.7106 - val_accuracy: 0.6100\n",
            "Epoch 9/20\n",
            "22/22 [==============================] - 6s 258ms/step - loss: 0.4861 - accuracy: 0.7543 - val_loss: 0.6776 - val_accuracy: 0.6000\n",
            "Epoch 10/20\n",
            "22/22 [==============================] - 6s 255ms/step - loss: 0.4652 - accuracy: 0.7746 - val_loss: 0.5840 - val_accuracy: 0.6900\n",
            "Epoch 11/20\n",
            "22/22 [==============================] - 6s 262ms/step - loss: 0.4495 - accuracy: 0.8035 - val_loss: 0.6675 - val_accuracy: 0.6500\n",
            "Epoch 12/20\n",
            "22/22 [==============================] - 6s 253ms/step - loss: 0.4465 - accuracy: 0.7962 - val_loss: 0.6584 - val_accuracy: 0.6300\n",
            "Epoch 13/20\n",
            "22/22 [==============================] - 6s 252ms/step - loss: 0.4239 - accuracy: 0.7803 - val_loss: 0.5798 - val_accuracy: 0.7000\n",
            "Epoch 14/20\n",
            "22/22 [==============================] - 6s 252ms/step - loss: 0.4169 - accuracy: 0.8006 - val_loss: 0.6734 - val_accuracy: 0.6700\n",
            "Epoch 15/20\n",
            "22/22 [==============================] - 6s 255ms/step - loss: 0.4432 - accuracy: 0.7832 - val_loss: 0.5996 - val_accuracy: 0.7200\n",
            "Epoch 16/20\n",
            "22/22 [==============================] - 6s 252ms/step - loss: 0.4370 - accuracy: 0.8078 - val_loss: 0.7301 - val_accuracy: 0.6200\n",
            "Epoch 17/20\n",
            "22/22 [==============================] - 6s 255ms/step - loss: 0.3866 - accuracy: 0.8309 - val_loss: 0.8149 - val_accuracy: 0.6600\n",
            "Epoch 18/20\n",
            "22/22 [==============================] - 6s 253ms/step - loss: 0.3886 - accuracy: 0.8194 - val_loss: 0.6078 - val_accuracy: 0.6800\n",
            "Epoch 19/20\n",
            "22/22 [==============================] - 6s 259ms/step - loss: 0.3226 - accuracy: 0.8728 - val_loss: 0.6988 - val_accuracy: 0.7000\n",
            "Epoch 20/20\n",
            "22/22 [==============================] - 6s 256ms/step - loss: 0.3636 - accuracy: 0.8468 - val_loss: 0.6183 - val_accuracy: 0.7000\n"
          ]
        },
        {
          "output_type": "execute_result",
          "data": {
            "text/plain": [
              "<keras.callbacks.History at 0x7f7264a56ed0>"
            ]
          },
          "metadata": {},
          "execution_count": 26
        }
      ]
    },
    {
      "cell_type": "code",
      "source": [
        "import numpy as np\n",
        "from keras.preprocessing import image\n",
        "test_image = image.load_img('/content/GV_DeepLearning/Dataset/TrainingSet/cat/cat.102.jpg', target_size = (64, 64))\n",
        "test_image = image.img_to_array(test_image)\n",
        "test_image = np.expand_dims(test_image, axis = 0)\n",
        "result = cnn.predict(test_image)\n",
        "training_set.class_indices\n",
        "if result[0][0] == 1:\n",
        "  prediction = 'dog'\n",
        "else:\n",
        "  prediction = 'cat'"
      ],
      "metadata": {
        "id": "1tLwUrY1PAQ0"
      },
      "execution_count": null,
      "outputs": []
    },
    {
      "cell_type": "code",
      "source": [
        "print(prediction)"
      ],
      "metadata": {
        "colab": {
          "base_uri": "https://localhost:8080/"
        },
        "id": "g2NoBzTUP35U",
        "outputId": "84cb1e00-5b35-49ed-bebb-89a6b1f9c13b"
      },
      "execution_count": null,
      "outputs": [
        {
          "output_type": "stream",
          "name": "stdout",
          "text": [
            "dog\n"
          ]
        }
      ]
    },
    {
      "cell_type": "code",
      "source": [],
      "metadata": {
        "id": "4FXY0diaP6hB"
      },
      "execution_count": null,
      "outputs": []
    }
  ]
}