{
  "nbformat": 4,
  "nbformat_minor": 0,
  "metadata": {
    "colab": {
      "provenance": [],
      "collapsed_sections": []
    },
    "kernelspec": {
      "name": "python3",
      "display_name": "Python 3"
    },
    "language_info": {
      "name": "python"
    }
  },
  "cells": [
    {
      "cell_type": "code",
      "execution_count": null,
      "metadata": {
        "colab": {
          "base_uri": "https://localhost:8080/"
        },
        "id": "F2Hj3OOJ7Yqx",
        "outputId": "266b1b08-dcac-419e-d42a-eba7007ff026"
      },
      "outputs": [
        {
          "output_type": "stream",
          "name": "stdout",
          "text": [
            "Mounted at /content/drive\n"
          ]
        }
      ],
      "source": [
        "from google.colab import drive\n",
        "drive.mount('/content/drive')"
      ]
    },
    {
      "cell_type": "code",
      "source": [
        "import tensorflow as tf\n",
        "from keras.preprocessing.image import ImageDataGenerator"
      ],
      "metadata": {
        "id": "66mtv2Sh8kpr"
      },
      "execution_count": null,
      "outputs": []
    },
    {
      "cell_type": "code",
      "source": [
        "tf.__version__"
      ],
      "metadata": {
        "colab": {
          "base_uri": "https://localhost:8080/",
          "height": 35
        },
        "id": "mNPDQh8T8o3U",
        "outputId": "9b907cd3-1a83-4b7d-e1c9-b34f243ca1e2"
      },
      "execution_count": null,
      "outputs": [
        {
          "output_type": "execute_result",
          "data": {
            "text/plain": [
              "'2.8.2'"
            ],
            "application/vnd.google.colaboratory.intrinsic+json": {
              "type": "string"
            }
          },
          "metadata": {},
          "execution_count": 4
        }
      ]
    },
    {
      "cell_type": "code",
      "source": [
        "train_datagen = ImageDataGenerator(rescale = 1./255,\n",
        "                                   shear_range = 0.2,\n",
        "                                   zoom_range = 0.2,\n",
        "                                   horizontal_flip = True)\n",
        "training_set = train_datagen.flow_from_directory('/content/drive/MyDrive/trail1 brain tumor dataset',\n",
        "                                                 target_size = (64, 64),\n",
        "                                                 batch_size = 32,\n",
        "                                                 class_mode = 'binary')"
      ],
      "metadata": {
        "colab": {
          "base_uri": "https://localhost:8080/"
        },
        "id": "VSBHWF168sTa",
        "outputId": "369f81ba-65f3-4e90-8e87-ab817cceca28"
      },
      "execution_count": null,
      "outputs": [
        {
          "output_type": "stream",
          "name": "stdout",
          "text": [
            "Found 82 images belonging to 3 classes.\n"
          ]
        }
      ]
    },
    {
      "cell_type": "code",
      "source": [
        "test_datagen = ImageDataGenerator(rescale = 1./255)\n",
        "test_set = test_datagen.flow_from_directory('/content/drive/MyDrive/trail1 brain tumor dataset/Testing',\n",
        "                                            target_size = (64, 64),\n",
        "                                            batch_size = 32,\n",
        "                                            class_mode = 'binary')"
      ],
      "metadata": {
        "colab": {
          "base_uri": "https://localhost:8080/"
        },
        "id": "eMQmWfVq8wCT",
        "outputId": "01586ec9-2308-462e-8900-4f2ec5011854"
      },
      "execution_count": null,
      "outputs": [
        {
          "output_type": "stream",
          "name": "stdout",
          "text": [
            "Found 40 images belonging to 2 classes.\n"
          ]
        }
      ]
    },
    {
      "cell_type": "code",
      "source": [
        "cnn = tf.keras.models.Sequential()"
      ],
      "metadata": {
        "id": "u7dEm_pc80nt"
      },
      "execution_count": null,
      "outputs": []
    },
    {
      "cell_type": "code",
      "source": [
        "cnn.add(tf.keras.layers.Conv2D(filters=32, kernel_size=3, activation='relu', input_shape=[64, 64, 3]))"
      ],
      "metadata": {
        "id": "TGWbLeit83_D"
      },
      "execution_count": null,
      "outputs": []
    },
    {
      "cell_type": "code",
      "source": [
        "cnn.add(tf.keras.layers.MaxPool2D(pool_size=2, strides=2))"
      ],
      "metadata": {
        "id": "ivLLP8D_87_q"
      },
      "execution_count": null,
      "outputs": []
    },
    {
      "cell_type": "code",
      "source": [
        "cnn.add(tf.keras.layers.Conv2D(filters=32, kernel_size=3, activation='relu'))\n",
        "cnn.add(tf.keras.layers.MaxPool2D(pool_size=2, strides=2))"
      ],
      "metadata": {
        "id": "Dt4wYAo58_bq"
      },
      "execution_count": null,
      "outputs": []
    },
    {
      "cell_type": "code",
      "source": [
        "cnn.add(tf.keras.layers.Flatten())"
      ],
      "metadata": {
        "id": "_-fDqvtm9Dpc"
      },
      "execution_count": null,
      "outputs": []
    },
    {
      "cell_type": "code",
      "source": [
        "cnn.add(tf.keras.layers.Dense(units=128, activation='relu'))"
      ],
      "metadata": {
        "id": "fDK3XRF59Gna"
      },
      "execution_count": null,
      "outputs": []
    },
    {
      "cell_type": "code",
      "source": [
        "cnn.add(tf.keras.layers.Dense(units=1, activation='sigmoid'))"
      ],
      "metadata": {
        "id": "0SaTw4BT9Ju5"
      },
      "execution_count": null,
      "outputs": []
    },
    {
      "cell_type": "code",
      "source": [
        "cnn.compile(optimizer = 'adam', loss = 'binary_crossentropy', metrics = ['accuracy'])"
      ],
      "metadata": {
        "id": "SidhvoUM9M-C"
      },
      "execution_count": null,
      "outputs": []
    },
    {
      "cell_type": "code",
      "source": [
        "cnn.fit(x = training_set, validation_data = test_set, epochs = 20)"
      ],
      "metadata": {
        "colab": {
          "base_uri": "https://localhost:8080/"
        },
        "id": "b9jzdHcX9QpM",
        "outputId": "9c9d7ded-d0c9-4024-d59b-eaac41b82a46"
      },
      "execution_count": null,
      "outputs": [
        {
          "output_type": "stream",
          "name": "stdout",
          "text": [
            "Epoch 1/20\n",
            "3/3 [==============================] - 13s 2s/step - loss: 0.7190 - accuracy: 0.5366 - val_loss: 0.7133 - val_accuracy: 0.5000\n",
            "Epoch 2/20\n",
            "3/3 [==============================] - 1s 297ms/step - loss: 0.7104 - accuracy: 0.4878 - val_loss: 0.6833 - val_accuracy: 0.5500\n",
            "Epoch 3/20\n",
            "3/3 [==============================] - 1s 251ms/step - loss: 0.6741 - accuracy: 0.5000 - val_loss: 0.6794 - val_accuracy: 0.6250\n",
            "Epoch 4/20\n",
            "3/3 [==============================] - 1s 265ms/step - loss: 0.6436 - accuracy: 0.6829 - val_loss: 0.6682 - val_accuracy: 0.6250\n",
            "Epoch 5/20\n",
            "3/3 [==============================] - 1s 255ms/step - loss: 0.6369 - accuracy: 0.6463 - val_loss: 0.6545 - val_accuracy: 0.6250\n",
            "Epoch 6/20\n",
            "3/3 [==============================] - 1s 336ms/step - loss: 0.6029 - accuracy: 0.7195 - val_loss: 0.6604 - val_accuracy: 0.6750\n",
            "Epoch 7/20\n",
            "3/3 [==============================] - 1s 313ms/step - loss: 0.5906 - accuracy: 0.6707 - val_loss: 0.7110 - val_accuracy: 0.6500\n",
            "Epoch 8/20\n",
            "3/3 [==============================] - 1s 325ms/step - loss: 0.5548 - accuracy: 0.7073 - val_loss: 0.6915 - val_accuracy: 0.6500\n",
            "Epoch 9/20\n",
            "3/3 [==============================] - 1s 269ms/step - loss: 0.5235 - accuracy: 0.7561 - val_loss: 0.7584 - val_accuracy: 0.6250\n",
            "Epoch 10/20\n",
            "3/3 [==============================] - 1s 259ms/step - loss: 0.5520 - accuracy: 0.7073 - val_loss: 0.7680 - val_accuracy: 0.5750\n",
            "Epoch 11/20\n",
            "3/3 [==============================] - 1s 317ms/step - loss: 0.4922 - accuracy: 0.7683 - val_loss: 0.7993 - val_accuracy: 0.5000\n",
            "Epoch 12/20\n",
            "3/3 [==============================] - 1s 303ms/step - loss: 0.4041 - accuracy: 0.7805 - val_loss: 0.8585 - val_accuracy: 0.5000\n",
            "Epoch 13/20\n",
            "3/3 [==============================] - 1s 257ms/step - loss: 0.4578 - accuracy: 0.7561 - val_loss: 0.9342 - val_accuracy: 0.5500\n",
            "Epoch 14/20\n",
            "3/3 [==============================] - 1s 438ms/step - loss: 0.4019 - accuracy: 0.7805 - val_loss: 0.8961 - val_accuracy: 0.5000\n",
            "Epoch 15/20\n",
            "3/3 [==============================] - 1s 281ms/step - loss: 0.3905 - accuracy: 0.7805 - val_loss: 0.7601 - val_accuracy: 0.5750\n",
            "Epoch 16/20\n",
            "3/3 [==============================] - 1s 253ms/step - loss: 0.4137 - accuracy: 0.7195 - val_loss: 0.8930 - val_accuracy: 0.5250\n",
            "Epoch 17/20\n",
            "3/3 [==============================] - 1s 307ms/step - loss: 0.3953 - accuracy: 0.7683 - val_loss: 1.1169 - val_accuracy: 0.4750\n",
            "Epoch 18/20\n",
            "3/3 [==============================] - 1s 341ms/step - loss: 0.3303 - accuracy: 0.8171 - val_loss: 0.8482 - val_accuracy: 0.5500\n",
            "Epoch 19/20\n",
            "3/3 [==============================] - 1s 266ms/step - loss: 0.3445 - accuracy: 0.7683 - val_loss: 0.8778 - val_accuracy: 0.5250\n",
            "Epoch 20/20\n",
            "3/3 [==============================] - 1s 301ms/step - loss: 0.3732 - accuracy: 0.7561 - val_loss: 1.0898 - val_accuracy: 0.5000\n"
          ]
        },
        {
          "output_type": "execute_result",
          "data": {
            "text/plain": [
              "<keras.callbacks.History at 0x7faf5156c450>"
            ]
          },
          "metadata": {},
          "execution_count": 30
        }
      ]
    },
    {
      "cell_type": "code",
      "source": [
        "import numpy as np\n",
        "from keras.preprocessing import image\n",
        "test_image = image.load_img('/content/drive/MyDrive/trail1 brain tumor dataset/single prediction/tumor.jpg', target_size = (64, 64))\n",
        "test_image = image.img_to_array(test_image)\n",
        "test_image = np.expand_dims(test_image, axis = 0)\n",
        "result = cnn.predict(test_image)\n",
        "training_set.class_indices\n",
        "if result[0][0] == 1:\n",
        "  prediction = 'tumor'\n",
        "else:\n",
        "  prediction = 'no tumor'"
      ],
      "metadata": {
        "id": "u4mCrVvH9YmV"
      },
      "execution_count": null,
      "outputs": []
    },
    {
      "cell_type": "code",
      "source": [
        "print(prediction)"
      ],
      "metadata": {
        "colab": {
          "base_uri": "https://localhost:8080/"
        },
        "id": "ZQ7wbmzE9nHx",
        "outputId": "90a26415-91b1-4dbb-a1c4-57dda3694cad"
      },
      "execution_count": null,
      "outputs": [
        {
          "output_type": "stream",
          "name": "stdout",
          "text": [
            "tumor\n"
          ]
        }
      ]
    }
  ]
}