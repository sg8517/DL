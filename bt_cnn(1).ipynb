{
  "nbformat": 4,
  "nbformat_minor": 0,
  "metadata": {
    "colab": {
      "provenance": [],
      "collapsed_sections": []
    },
    "kernelspec": {
      "name": "python3",
      "display_name": "Python 3"
    },
    "language_info": {
      "name": "python"
    }
  },
  "cells": [
    {
      "cell_type": "code",
      "source": [
        "from google.colab import drive\n",
        "drive.mount('/content/drive')"
      ],
      "metadata": {
        "colab": {
          "base_uri": "https://localhost:8080/"
        },
        "id": "kAsQ55im6XhU",
        "outputId": "96d36b71-a3b2-4edc-c5f6-ca1ac552eb25"
      },
      "execution_count": null,
      "outputs": [
        {
          "output_type": "stream",
          "name": "stdout",
          "text": [
            "Mounted at /content/drive\n"
          ]
        }
      ]
    },
    {
      "cell_type": "code",
      "source": [
        "import tensorflow as tf\n",
        "from keras.preprocessing.image import ImageDataGenerator"
      ],
      "metadata": {
        "id": "SwT_-h-RMgXR"
      },
      "execution_count": null,
      "outputs": []
    },
    {
      "cell_type": "code",
      "source": [
        "tf.__version__"
      ],
      "metadata": {
        "colab": {
          "base_uri": "https://localhost:8080/",
          "height": 35
        },
        "id": "rmiKFedkMNmM",
        "outputId": "2bbac067-f408-4b38-a510-3d6fbcc81816"
      },
      "execution_count": null,
      "outputs": [
        {
          "output_type": "execute_result",
          "data": {
            "text/plain": [
              "'2.8.2'"
            ],
            "application/vnd.google.colaboratory.intrinsic+json": {
              "type": "string"
            }
          },
          "metadata": {},
          "execution_count": 3
        }
      ]
    },
    {
      "cell_type": "code",
      "source": [
        "train_datagen = ImageDataGenerator(rescale = 1./255,\n",
        "                                   shear_range = 0.2,\n",
        "                                   zoom_range = 0.2,\n",
        "                                   horizontal_flip = True)\n",
        "training_set = train_datagen.flow_from_directory('/content/drive/MyDrive/TRAIL DATASET/dataset/training_set',\n",
        "                                                 target_size = (64, 64),\n",
        "                                                 batch_size = 32,\n",
        "                                                 class_mode = 'binary')"
      ],
      "metadata": {
        "colab": {
          "base_uri": "https://localhost:8080/"
        },
        "id": "jqkSzNwlNnGY",
        "outputId": "279d3091-0c01-4e56-9b18-4a30be4552e0"
      },
      "execution_count": null,
      "outputs": [
        {
          "output_type": "stream",
          "name": "stdout",
          "text": [
            "Found 40 images belonging to 2 classes.\n"
          ]
        }
      ]
    },
    {
      "cell_type": "code",
      "source": [
        "test_datagen = ImageDataGenerator(rescale = 1./255)\n",
        "test_set = test_datagen.flow_from_directory('/content/drive/MyDrive/TRAIL DATASET/dataset/test_set',\n",
        "                                            target_size = (64, 64),\n",
        "                                            batch_size = 32,\n",
        "                                            class_mode = 'binary')"
      ],
      "metadata": {
        "colab": {
          "base_uri": "https://localhost:8080/"
        },
        "id": "-WpyotUpN8EK",
        "outputId": "3e393bd5-ce53-4d2b-9e4e-0dcb31c9ccf4"
      },
      "execution_count": null,
      "outputs": [
        {
          "output_type": "stream",
          "name": "stdout",
          "text": [
            "Found 40 images belonging to 2 classes.\n"
          ]
        }
      ]
    },
    {
      "cell_type": "code",
      "source": [
        "cnn = tf.keras.models.Sequential()"
      ],
      "metadata": {
        "id": "2lpkDn8WODHg"
      },
      "execution_count": null,
      "outputs": []
    },
    {
      "cell_type": "code",
      "source": [
        "cnn.add(tf.keras.layers.Conv2D(filters=32, kernel_size=3, activation='relu', input_shape=[64, 64, 3]))"
      ],
      "metadata": {
        "id": "N86reAImOKim"
      },
      "execution_count": null,
      "outputs": []
    },
    {
      "cell_type": "code",
      "source": [
        "cnn.add(tf.keras.layers.MaxPool2D(pool_size=2, strides=2))"
      ],
      "metadata": {
        "id": "7ixYgaUhOOg3"
      },
      "execution_count": null,
      "outputs": []
    },
    {
      "cell_type": "code",
      "source": [
        "cnn.add(tf.keras.layers.Conv2D(filters=32, kernel_size=3, activation='relu'))\n",
        "cnn.add(tf.keras.layers.MaxPool2D(pool_size=2, strides=2))"
      ],
      "metadata": {
        "id": "ZCpogzsIOScD"
      },
      "execution_count": null,
      "outputs": []
    },
    {
      "cell_type": "code",
      "source": [
        "cnn.add(tf.keras.layers.Flatten())"
      ],
      "metadata": {
        "id": "LpQb1GkhOwdV"
      },
      "execution_count": null,
      "outputs": []
    },
    {
      "cell_type": "code",
      "source": [
        "cnn.add(tf.keras.layers.Dense(units=128, activation='relu'))"
      ],
      "metadata": {
        "id": "0xWxPD1DOzno"
      },
      "execution_count": null,
      "outputs": []
    },
    {
      "cell_type": "code",
      "source": [
        "cnn.add(tf.keras.layers.Dense(units=1, activation='sigmoid'))"
      ],
      "metadata": {
        "id": "t0gFJcqKO3ad"
      },
      "execution_count": null,
      "outputs": []
    },
    {
      "cell_type": "code",
      "source": [
        "cnn.compile(optimizer = 'adam', loss = 'binary_crossentropy', metrics = ['accuracy'])"
      ],
      "metadata": {
        "id": "QYoOGouCO7JF"
      },
      "execution_count": null,
      "outputs": []
    },
    {
      "cell_type": "code",
      "source": [
        "cnn.fit(x = training_set, validation_data = test_set, epochs = 20)"
      ],
      "metadata": {
        "colab": {
          "base_uri": "https://localhost:8080/"
        },
        "id": "tziUbNpbO9y-",
        "outputId": "b6e42e3a-3410-43d5-a957-0632ef9d27a2"
      },
      "execution_count": null,
      "outputs": [
        {
          "output_type": "stream",
          "name": "stdout",
          "text": [
            "Epoch 1/20\n",
            "2/2 [==============================] - 1s 413ms/step - loss: 0.3537 - accuracy: 0.8250 - val_loss: 1.6553 - val_accuracy: 0.5000\n",
            "Epoch 2/20\n",
            "2/2 [==============================] - 1s 294ms/step - loss: 0.3297 - accuracy: 0.8500 - val_loss: 1.4108 - val_accuracy: 0.4500\n",
            "Epoch 3/20\n",
            "2/2 [==============================] - 1s 282ms/step - loss: 0.3468 - accuracy: 0.8750 - val_loss: 1.3526 - val_accuracy: 0.4000\n",
            "Epoch 4/20\n",
            "2/2 [==============================] - 1s 527ms/step - loss: 0.3297 - accuracy: 0.9250 - val_loss: 1.5061 - val_accuracy: 0.4000\n",
            "Epoch 5/20\n",
            "2/2 [==============================] - 1s 281ms/step - loss: 0.3347 - accuracy: 0.8250 - val_loss: 1.8967 - val_accuracy: 0.4500\n",
            "Epoch 6/20\n",
            "2/2 [==============================] - 1s 553ms/step - loss: 0.2071 - accuracy: 0.9500 - val_loss: 2.3492 - val_accuracy: 0.4500\n",
            "Epoch 7/20\n",
            "2/2 [==============================] - 1s 280ms/step - loss: 0.2144 - accuracy: 0.9250 - val_loss: 2.7203 - val_accuracy: 0.4500\n",
            "Epoch 8/20\n",
            "2/2 [==============================] - 1s 245ms/step - loss: 0.2259 - accuracy: 0.9500 - val_loss: 2.9966 - val_accuracy: 0.4250\n",
            "Epoch 9/20\n",
            "2/2 [==============================] - 1s 261ms/step - loss: 0.3069 - accuracy: 0.9000 - val_loss: 3.4759 - val_accuracy: 0.5000\n",
            "Epoch 10/20\n",
            "2/2 [==============================] - 1s 283ms/step - loss: 0.2621 - accuracy: 0.8500 - val_loss: 4.2954 - val_accuracy: 0.5000\n",
            "Epoch 11/20\n",
            "2/2 [==============================] - 1s 275ms/step - loss: 0.4019 - accuracy: 0.7750 - val_loss: 3.4051 - val_accuracy: 0.4750\n",
            "Epoch 12/20\n",
            "2/2 [==============================] - 1s 285ms/step - loss: 0.2380 - accuracy: 0.8750 - val_loss: 2.3359 - val_accuracy: 0.4500\n",
            "Epoch 13/20\n",
            "2/2 [==============================] - 1s 501ms/step - loss: 0.3461 - accuracy: 0.8250 - val_loss: 2.0933 - val_accuracy: 0.4750\n",
            "Epoch 14/20\n",
            "2/2 [==============================] - 1s 528ms/step - loss: 0.2491 - accuracy: 0.9250 - val_loss: 3.6966 - val_accuracy: 0.5000\n",
            "Epoch 15/20\n",
            "2/2 [==============================] - 1s 524ms/step - loss: 0.3721 - accuracy: 0.8500 - val_loss: 2.8955 - val_accuracy: 0.4750\n",
            "Epoch 16/20\n",
            "2/2 [==============================] - 1s 496ms/step - loss: 0.2135 - accuracy: 0.9000 - val_loss: 2.0606 - val_accuracy: 0.4750\n",
            "Epoch 17/20\n",
            "2/2 [==============================] - 1s 437ms/step - loss: 0.2109 - accuracy: 0.9500 - val_loss: 1.8145 - val_accuracy: 0.4750\n",
            "Epoch 18/20\n",
            "2/2 [==============================] - 1s 794ms/step - loss: 0.1657 - accuracy: 0.9250 - val_loss: 2.2908 - val_accuracy: 0.4500\n",
            "Epoch 19/20\n",
            "2/2 [==============================] - 1s 830ms/step - loss: 0.1676 - accuracy: 0.9500 - val_loss: 2.6730 - val_accuracy: 0.4750\n",
            "Epoch 20/20\n",
            "2/2 [==============================] - 1s 500ms/step - loss: 0.2597 - accuracy: 0.9250 - val_loss: 2.1802 - val_accuracy: 0.4250\n"
          ]
        },
        {
          "output_type": "execute_result",
          "data": {
            "text/plain": [
              "<keras.callbacks.History at 0x7f1359f6bc90>"
            ]
          },
          "metadata": {},
          "execution_count": 32
        }
      ]
    },
    {
      "cell_type": "code",
      "source": [
        "import numpy as np\n",
        "from keras.preprocessing import image\n",
        "test_image = image.load_img('/content/drive/MyDrive/TRAIL DATASET/dataset/single_prediction/t.jpg', target_size = (64, 64))\n",
        "test_image = image.img_to_array(test_image)\n",
        "test_image = np.expand_dims(test_image, axis = 0)\n",
        "result = cnn.predict(test_image)\n",
        "training_set.class_indices\n",
        "if result[0][0] == 1:\n",
        "  prediction = 'tumor'\n",
        "else:\n",
        "  prediction = 'no tumor'"
      ],
      "metadata": {
        "id": "1tLwUrY1PAQ0"
      },
      "execution_count": null,
      "outputs": []
    },
    {
      "cell_type": "code",
      "source": [
        "print(prediction)"
      ],
      "metadata": {
        "colab": {
          "base_uri": "https://localhost:8080/"
        },
        "id": "g2NoBzTUP35U",
        "outputId": "44f401c3-5288-4e4b-aa81-69af1e5a6282"
      },
      "execution_count": null,
      "outputs": [
        {
          "output_type": "stream",
          "name": "stdout",
          "text": [
            "tumor\n"
          ]
        }
      ]
    },
    {
      "cell_type": "code",
      "source": [],
      "metadata": {
        "id": "4FXY0diaP6hB"
      },
      "execution_count": null,
      "outputs": []
    }
  ]
}